{
 "cells": [
  {
   "cell_type": "markdown",
   "metadata": {},
   "source": [
    "# Creating pre-clean dataset "
   ]
  },
  {
   "cell_type": "code",
   "execution_count": 42,
   "metadata": {},
   "outputs": [],
   "source": [
    "#importing all databases with Twitter data\n",
    "from os import listdir\n",
    "import pandas as pd \n",
    "path = r'./data' # use your path\n",
    "\n",
    "filepaths = [f for f in listdir(\".\") if f.endswith('.csv')]\n",
    "li = []\n",
    "\n",
    "#reading all datasets\n",
    "for filename in filepaths:\n",
    "    df = pd.read_csv(filename, index_col=None, header=0)\n",
    "    li.append(df)\n",
    "\n",
    "database = pd.concat(li, axis=0, ignore_index=True)"
   ]
  },
  {
   "cell_type": "code",
   "execution_count": 43,
   "metadata": {},
   "outputs": [
    {
     "name": "stdout",
     "output_type": "stream",
     "text": [
      "Unnamed: 0\n",
      "got_criteria\n",
      "company\n",
      "tweet_text\n",
      "date\n",
      "hashtags\n",
      "retweets\n",
      "favorites\n",
      "mentions\n",
      "Company\n",
      "Sector\n",
      "Name to search\n",
      "Status\n"
     ]
    }
   ],
   "source": [
    "#columns in the dataset\n",
    "for col in database.columns: \n",
    "    print(col) "
   ]
  },
  {
   "cell_type": "code",
   "execution_count": 44,
   "metadata": {},
   "outputs": [
    {
     "data": {
      "text/plain": [
       "array(['US Bank', 'Truist', 'PNC Financial', 'Wells Fargo', 'Twitter',\n",
       "       'HP', 'Dell', 'Uber', \"Macy's\", 'Nordstrom', \"Kohl's\", 'CVS',\n",
       "       'J & J ', 'P&G ', 'Colgate-Palmolive', 'Walgreens',\n",
       "       'General Mills', 'Coca-Cola', 'Ralph Lauren', 'Costco', 'TJX',\n",
       "       'Home Depot', 'Walmart', 'Target', 'Lowes', 'Ross', 'Dollar tree',\n",
       "       'Dollar General', 'Apple', 'Amazon', 'Facebook',\n",
       "       'Alphabet (class A,C)', nan, 'Monster Beverage', 'Tyson Foods',\n",
       "       'Hershey', 'Kellog', 'Kroger', 'Kraft Heinz', 'Smucker',\n",
       "       'Campbell Soup', 'Molson Coors', 'Darden Restaurants', 'Snap Inc.',\n",
       "       'Spotify', 'AT&T', 'T-Mobile', 'Sprint', 'Verizon',\n",
       "       'JPMorgan & Chase', 'Citigroup', 'Bank of America'], dtype=object)"
      ]
     },
     "execution_count": 44,
     "metadata": {},
     "output_type": "execute_result"
    }
   ],
   "source": [
    "database[\"company\"].unique()"
   ]
  },
  {
   "cell_type": "code",
   "execution_count": 45,
   "metadata": {},
   "outputs": [],
   "source": [
    "#dropping unececessary columns\n",
    "database = database.drop(columns = [\"got_criteria\", \"Unnamed: 0\", \"Company\", \"Sector\", \"Name to search\", \"mentions\", \"Status\"])"
   ]
  },
  {
   "cell_type": "code",
   "execution_count": 46,
   "metadata": {},
   "outputs": [
    {
     "data": {
      "text/html": [
       "<div>\n",
       "<style scoped>\n",
       "    .dataframe tbody tr th:only-of-type {\n",
       "        vertical-align: middle;\n",
       "    }\n",
       "\n",
       "    .dataframe tbody tr th {\n",
       "        vertical-align: top;\n",
       "    }\n",
       "\n",
       "    .dataframe thead th {\n",
       "        text-align: right;\n",
       "    }\n",
       "</style>\n",
       "<table border=\"1\" class=\"dataframe\">\n",
       "  <thead>\n",
       "    <tr style=\"text-align: right;\">\n",
       "      <th></th>\n",
       "      <th>company</th>\n",
       "      <th>tweet_text</th>\n",
       "      <th>date</th>\n",
       "      <th>hashtags</th>\n",
       "      <th>retweets</th>\n",
       "      <th>favorites</th>\n",
       "    </tr>\n",
       "  </thead>\n",
       "  <tbody>\n",
       "    <tr>\n",
       "      <th>0</th>\n",
       "      <td>US Bank</td>\n",
       "      <td>#Skol #us bank stadium. #itsmillertime. Go Vik...</td>\n",
       "      <td>2017-01-01 18:30:51+00:00</td>\n",
       "      <td>#Skol #us #itsmillertime</td>\n",
       "      <td>0.0</td>\n",
       "      <td>0.0</td>\n",
       "    </tr>\n",
       "    <tr>\n",
       "      <th>1</th>\n",
       "      <td>US Bank</td>\n",
       "      <td>#US, #UK and #EUropen Countries #VBA (#VIRTUAL...</td>\n",
       "      <td>2017-01-01 08:28:13+00:00</td>\n",
       "      <td>#US #UK #EUropen #VBA #VIRTUAL #BANK #ACCOUNT ...</td>\n",
       "      <td>0.0</td>\n",
       "      <td>0.0</td>\n",
       "    </tr>\n",
       "    <tr>\n",
       "      <th>2</th>\n",
       "      <td>US Bank</td>\n",
       "      <td>#Marijuana-related businesses should get bette...</td>\n",
       "      <td>2017-01-02 13:22:33+00:00</td>\n",
       "      <td>#Marijuana #US</td>\n",
       "      <td>0.0</td>\n",
       "      <td>0.0</td>\n",
       "    </tr>\n",
       "    <tr>\n",
       "      <th>3</th>\n",
       "      <td>US Bank</td>\n",
       "      <td>#US Senators propose better bank access for ma...</td>\n",
       "      <td>2017-01-02 12:22:01+00:00</td>\n",
       "      <td>#US</td>\n",
       "      <td>3.0</td>\n",
       "      <td>5.0</td>\n",
       "    </tr>\n",
       "    <tr>\n",
       "      <th>4</th>\n",
       "      <td>US Bank</td>\n",
       "      <td>#US Senators propose better bank access for #m...</td>\n",
       "      <td>2017-01-02 21:26:56+00:00</td>\n",
       "      <td>#US #marijuana</td>\n",
       "      <td>0.0</td>\n",
       "      <td>1.0</td>\n",
       "    </tr>\n",
       "  </tbody>\n",
       "</table>\n",
       "</div>"
      ],
      "text/plain": [
       "   company                                         tweet_text  \\\n",
       "0  US Bank  #Skol #us bank stadium. #itsmillertime. Go Vik...   \n",
       "1  US Bank  #US, #UK and #EUropen Countries #VBA (#VIRTUAL...   \n",
       "2  US Bank  #Marijuana-related businesses should get bette...   \n",
       "3  US Bank  #US Senators propose better bank access for ma...   \n",
       "4  US Bank  #US Senators propose better bank access for #m...   \n",
       "\n",
       "                        date  \\\n",
       "0  2017-01-01 18:30:51+00:00   \n",
       "1  2017-01-01 08:28:13+00:00   \n",
       "2  2017-01-02 13:22:33+00:00   \n",
       "3  2017-01-02 12:22:01+00:00   \n",
       "4  2017-01-02 21:26:56+00:00   \n",
       "\n",
       "                                            hashtags  retweets  favorites  \n",
       "0                           #Skol #us #itsmillertime       0.0        0.0  \n",
       "1  #US #UK #EUropen #VBA #VIRTUAL #BANK #ACCOUNT ...       0.0        0.0  \n",
       "2                                     #Marijuana #US       0.0        0.0  \n",
       "3                                                #US       3.0        5.0  \n",
       "4                                     #US #marijuana       0.0        1.0  "
      ]
     },
     "execution_count": 46,
     "metadata": {},
     "output_type": "execute_result"
    }
   ],
   "source": [
    "#head dataset\n",
    "database.head()"
   ]
  },
  {
   "cell_type": "code",
   "execution_count": 51,
   "metadata": {
    "scrolled": true
   },
   "outputs": [
    {
     "data": {
      "text/html": [
       "<div>\n",
       "<style scoped>\n",
       "    .dataframe tbody tr th:only-of-type {\n",
       "        vertical-align: middle;\n",
       "    }\n",
       "\n",
       "    .dataframe tbody tr th {\n",
       "        vertical-align: top;\n",
       "    }\n",
       "\n",
       "    .dataframe thead th {\n",
       "        text-align: right;\n",
       "    }\n",
       "</style>\n",
       "<table border=\"1\" class=\"dataframe\">\n",
       "  <thead>\n",
       "    <tr style=\"text-align: right;\">\n",
       "      <th></th>\n",
       "      <th>company</th>\n",
       "      <th>tweet_text</th>\n",
       "      <th>date</th>\n",
       "      <th>hashtags</th>\n",
       "      <th>retweets</th>\n",
       "      <th>favorites</th>\n",
       "      <th>sector</th>\n",
       "      <th>name to search</th>\n",
       "      <th>status</th>\n",
       "    </tr>\n",
       "  </thead>\n",
       "  <tbody>\n",
       "    <tr>\n",
       "      <th>0</th>\n",
       "      <td>US Bank</td>\n",
       "      <td>#Skol #us bank stadium. #itsmillertime. Go Vik...</td>\n",
       "      <td>2017-01-01 18:30:51+00:00</td>\n",
       "      <td>#Skol #us #itsmillertime</td>\n",
       "      <td>0.0</td>\n",
       "      <td>0.0</td>\n",
       "      <td>NaN</td>\n",
       "      <td>NaN</td>\n",
       "      <td>NaN</td>\n",
       "    </tr>\n",
       "    <tr>\n",
       "      <th>1</th>\n",
       "      <td>US Bank</td>\n",
       "      <td>#US, #UK and #EUropen Countries #VBA (#VIRTUAL...</td>\n",
       "      <td>2017-01-01 08:28:13+00:00</td>\n",
       "      <td>#US #UK #EUropen #VBA #VIRTUAL #BANK #ACCOUNT ...</td>\n",
       "      <td>0.0</td>\n",
       "      <td>0.0</td>\n",
       "      <td>NaN</td>\n",
       "      <td>NaN</td>\n",
       "      <td>NaN</td>\n",
       "    </tr>\n",
       "    <tr>\n",
       "      <th>2</th>\n",
       "      <td>US Bank</td>\n",
       "      <td>#Marijuana-related businesses should get bette...</td>\n",
       "      <td>2017-01-02 13:22:33+00:00</td>\n",
       "      <td>#Marijuana #US</td>\n",
       "      <td>0.0</td>\n",
       "      <td>0.0</td>\n",
       "      <td>NaN</td>\n",
       "      <td>NaN</td>\n",
       "      <td>NaN</td>\n",
       "    </tr>\n",
       "    <tr>\n",
       "      <th>3</th>\n",
       "      <td>US Bank</td>\n",
       "      <td>#US Senators propose better bank access for ma...</td>\n",
       "      <td>2017-01-02 12:22:01+00:00</td>\n",
       "      <td>#US</td>\n",
       "      <td>3.0</td>\n",
       "      <td>5.0</td>\n",
       "      <td>NaN</td>\n",
       "      <td>NaN</td>\n",
       "      <td>NaN</td>\n",
       "    </tr>\n",
       "    <tr>\n",
       "      <th>4</th>\n",
       "      <td>US Bank</td>\n",
       "      <td>#US Senators propose better bank access for #m...</td>\n",
       "      <td>2017-01-02 21:26:56+00:00</td>\n",
       "      <td>#US #marijuana</td>\n",
       "      <td>0.0</td>\n",
       "      <td>1.0</td>\n",
       "      <td>NaN</td>\n",
       "      <td>NaN</td>\n",
       "      <td>NaN</td>\n",
       "    </tr>\n",
       "    <tr>\n",
       "      <th>...</th>\n",
       "      <td>...</td>\n",
       "      <td>...</td>\n",
       "      <td>...</td>\n",
       "      <td>...</td>\n",
       "      <td>...</td>\n",
       "      <td>...</td>\n",
       "      <td>...</td>\n",
       "      <td>...</td>\n",
       "      <td>...</td>\n",
       "    </tr>\n",
       "    <tr>\n",
       "      <th>1547271</th>\n",
       "      <td>Bank of America</td>\n",
       "      <td>Large-denomination bills were in such high dem...</td>\n",
       "      <td>2020-03-17 12:52:05+00:00</td>\n",
       "      <td>#bank #banking #riskmanagement #risk</td>\n",
       "      <td>0.0</td>\n",
       "      <td>0.0</td>\n",
       "      <td>NaN</td>\n",
       "      <td>NaN</td>\n",
       "      <td>NaN</td>\n",
       "    </tr>\n",
       "    <tr>\n",
       "      <th>1547272</th>\n",
       "      <td>Bank of America</td>\n",
       "      <td>Large-denomination bills were in such high dem...</td>\n",
       "      <td>2020-03-18 17:21:20+00:00</td>\n",
       "      <td>#bank #banking #riskmanagement #risk</td>\n",
       "      <td>0.0</td>\n",
       "      <td>0.0</td>\n",
       "      <td>NaN</td>\n",
       "      <td>NaN</td>\n",
       "      <td>NaN</td>\n",
       "    </tr>\n",
       "    <tr>\n",
       "      <th>1547273</th>\n",
       "      <td>Bank of America</td>\n",
       "      <td>@BankofAmerica #bank of America.we were reques...</td>\n",
       "      <td>2020-03-18 10:45:58+00:00</td>\n",
       "      <td>#bank</td>\n",
       "      <td>0.0</td>\n",
       "      <td>0.0</td>\n",
       "      <td>NaN</td>\n",
       "      <td>NaN</td>\n",
       "      <td>NaN</td>\n",
       "    </tr>\n",
       "    <tr>\n",
       "      <th>1547274</th>\n",
       "      <td>Bank of America</td>\n",
       "      <td>#Bank of America: Recession Is Already Here ht...</td>\n",
       "      <td>2020-03-19 18:06:49+00:00</td>\n",
       "      <td>#Bank</td>\n",
       "      <td>0.0</td>\n",
       "      <td>1.0</td>\n",
       "      <td>NaN</td>\n",
       "      <td>NaN</td>\n",
       "      <td>NaN</td>\n",
       "    </tr>\n",
       "    <tr>\n",
       "      <th>1547275</th>\n",
       "      <td>Bank of America</td>\n",
       "      <td>#Bank of America Corp. offers at least one #tr...</td>\n",
       "      <td>2020-03-19 07:00:00+00:00</td>\n",
       "      <td>#Bank #transgender</td>\n",
       "      <td>0.0</td>\n",
       "      <td>0.0</td>\n",
       "      <td>NaN</td>\n",
       "      <td>NaN</td>\n",
       "      <td>NaN</td>\n",
       "    </tr>\n",
       "  </tbody>\n",
       "</table>\n",
       "<p>1547276 rows × 9 columns</p>\n",
       "</div>"
      ],
      "text/plain": [
       "                 company                                         tweet_text  \\\n",
       "0                US Bank  #Skol #us bank stadium. #itsmillertime. Go Vik...   \n",
       "1                US Bank  #US, #UK and #EUropen Countries #VBA (#VIRTUAL...   \n",
       "2                US Bank  #Marijuana-related businesses should get bette...   \n",
       "3                US Bank  #US Senators propose better bank access for ma...   \n",
       "4                US Bank  #US Senators propose better bank access for #m...   \n",
       "...                  ...                                                ...   \n",
       "1547271  Bank of America  Large-denomination bills were in such high dem...   \n",
       "1547272  Bank of America  Large-denomination bills were in such high dem...   \n",
       "1547273  Bank of America  @BankofAmerica #bank of America.we were reques...   \n",
       "1547274  Bank of America  #Bank of America: Recession Is Already Here ht...   \n",
       "1547275  Bank of America  #Bank of America Corp. offers at least one #tr...   \n",
       "\n",
       "                              date  \\\n",
       "0        2017-01-01 18:30:51+00:00   \n",
       "1        2017-01-01 08:28:13+00:00   \n",
       "2        2017-01-02 13:22:33+00:00   \n",
       "3        2017-01-02 12:22:01+00:00   \n",
       "4        2017-01-02 21:26:56+00:00   \n",
       "...                            ...   \n",
       "1547271  2020-03-17 12:52:05+00:00   \n",
       "1547272  2020-03-18 17:21:20+00:00   \n",
       "1547273  2020-03-18 10:45:58+00:00   \n",
       "1547274  2020-03-19 18:06:49+00:00   \n",
       "1547275  2020-03-19 07:00:00+00:00   \n",
       "\n",
       "                                                  hashtags  retweets  \\\n",
       "0                                 #Skol #us #itsmillertime       0.0   \n",
       "1        #US #UK #EUropen #VBA #VIRTUAL #BANK #ACCOUNT ...       0.0   \n",
       "2                                           #Marijuana #US       0.0   \n",
       "3                                                      #US       3.0   \n",
       "4                                           #US #marijuana       0.0   \n",
       "...                                                    ...       ...   \n",
       "1547271               #bank #banking #riskmanagement #risk       0.0   \n",
       "1547272               #bank #banking #riskmanagement #risk       0.0   \n",
       "1547273                                              #bank       0.0   \n",
       "1547274                                              #Bank       0.0   \n",
       "1547275                                 #Bank #transgender       0.0   \n",
       "\n",
       "         favorites sector name to search  status  \n",
       "0              0.0    NaN            NaN     NaN  \n",
       "1              0.0    NaN            NaN     NaN  \n",
       "2              0.0    NaN            NaN     NaN  \n",
       "3              5.0    NaN            NaN     NaN  \n",
       "4              1.0    NaN            NaN     NaN  \n",
       "...            ...    ...            ...     ...  \n",
       "1547271        0.0    NaN            NaN     NaN  \n",
       "1547272        0.0    NaN            NaN     NaN  \n",
       "1547273        0.0    NaN            NaN     NaN  \n",
       "1547274        1.0    NaN            NaN     NaN  \n",
       "1547275        0.0    NaN            NaN     NaN  \n",
       "\n",
       "[1547276 rows x 9 columns]"
      ]
     },
     "execution_count": 51,
     "metadata": {},
     "output_type": "execute_result"
    }
   ],
   "source": [
    "#combining with company sector defined by us\n",
    "initial_database = pd.read_csv(\"companies.csv\").rename(str.lower, axis='columns')\n",
    "\n",
    "database.merge(initial_database, on='company', how='left')\n"
   ]
  },
  {
   "cell_type": "code",
   "execution_count": 52,
   "metadata": {},
   "outputs": [],
   "source": [
    "#converting the twitter text to string\n",
    "database[\"tweet_text\"] = database[\"tweet_text\"].apply(str) "
   ]
  },
  {
   "cell_type": "code",
   "execution_count": 53,
   "metadata": {},
   "outputs": [],
   "source": [
    "#dropping NA\n",
    "database = database[database.tweet_text != 'nan']\n",
    "database.reset_index(drop=True,inplace=True)"
   ]
  },
  {
   "cell_type": "code",
   "execution_count": 54,
   "metadata": {},
   "outputs": [
    {
     "name": "stderr",
     "output_type": "stream",
     "text": [
      "/Users/martabras/anaconda3/lib/python3.6/site-packages/ipykernel_launcher.py:2: SettingWithCopyWarning: \n",
      "A value is trying to be set on a copy of a slice from a DataFrame.\n",
      "Try using .loc[row_indexer,col_indexer] = value instead\n",
      "\n",
      "See the caveats in the documentation: https://pandas.pydata.org/pandas-docs/stable/user_guide/indexing.html#returning-a-view-versus-a-copy\n",
      "  \n"
     ]
    }
   ],
   "source": [
    "#adding a column with length of text pre cleaning\n",
    "database['pre_clean_len'] = [len(t) for t in database.tweet_text]"
   ]
  },
  {
   "cell_type": "code",
   "execution_count": 55,
   "metadata": {},
   "outputs": [
    {
     "name": "stdout",
     "output_type": "stream",
     "text": [
      "{'dataset_shape': (1547148, 7),\n",
      " 'pre_clean_len': {'description': 'Length of the tweet before cleaning',\n",
      "                   'type': dtype('int64')},\n",
      " 'text': {'description': 'tweet text', 'type': dtype('O')}}\n"
     ]
    }
   ],
   "source": [
    "#first draft of the data dictionary for the dataset\n",
    "from pprint import pprint\n",
    "data_dict = {\n",
    "\n",
    "    'text':{\n",
    "        'type':database.tweet_text.dtype,\n",
    "        'description':'tweet text'\n",
    "    },\n",
    "    'pre_clean_len':{\n",
    "        'type':database.pre_clean_len.dtype,\n",
    "        'description':'Length of the tweet before cleaning'\n",
    "    },\n",
    "    'dataset_shape':database.shape\n",
    "}\n",
    "pprint(data_dict)"
   ]
  },
  {
   "cell_type": "code",
   "execution_count": 56,
   "metadata": {},
   "outputs": [
    {
     "data": {
      "image/png": "[encoded data removed]",
      "text/plain": [
       "<Figure size 360x360 with 1 Axes>"
      ]
     },
     "metadata": {
      "image/png": {
       "height": 299,
       "width": 356
      },
      "needs_background": "light"
     },
     "output_type": "display_data"
    }
   ],
   "source": [
    "#boxplot of the length of tweet text\n",
    "from matplotlib import pyplot as plt\n",
    "\n",
    "fig, ax = plt.subplots(figsize=(5, 5))\n",
    "plt.boxplot(database.pre_clean_len)\n",
    "plt.show()"
   ]
  },
  {
   "cell_type": "markdown",
   "metadata": {},
   "source": [
    "There is a high dispersion in length of tweets. While the median is bellow 250, there are posts much lengthier."
   ]
  },
  {
   "cell_type": "code",
   "execution_count": 16,
   "metadata": {},
   "outputs": [
    {
     "data": {
      "text/plain": [
       "49586      We released an update for SUPER PINBALL MAKER!...\n",
       "208261     https://www.amazon.com/KINGSLONG-Backpack-Comp...\n",
       "208295     https://www.amazon.com/KINGSLONG-Backpack-Comp...\n",
       "208488     https://www.amazon.com/KINGSLONG-Backpack-Comp...\n",
       "208530     https://www.amazon.com/KINGSLONG-Backpack-Comp...\n",
       "270721     Horrific, Life threatening experience in an UB...\n",
       "300879     Here's what I've found $319 here can't vouch f...\n",
       "410002     *SPECIAL BREAKING NEWS*- QL RADIO Will Be Feat...\n",
       "448393     #VacancyCO #RealEstate, #PropertyPro.ng, #Lago...\n",
       "448689     #VacancyCCO #Tripz Nigeria, #Lagos: #CUSTOMER ...\n",
       "822323     #TARGET #UNKT These data are not final. Work i...\n",
       "837429     I just entered to win a $100 #Target Gift card...\n",
       "1002112    ENTER #Win a $100 #Amazon #Gift #card with @Bo...\n",
       "1002475    Celebrate Romance Enter to #Win a NEW #Kindle ...\n",
       "1008860    RT and ENTER Daily to #Win a #$50 #Amazon #Gif...\n",
       "1010477    Spring into Summer #giveaway #Romance Multi-Au...\n",
       "1012943    RT ENTER to #Win an #Amazon #Kindle with @Book...\n",
       "1015162    RT ENTER to #Win a $50 #Amazon #Giftcard with ...\n",
       "1015294    RT ENTER to #Win a $50 #Amazon #Giftcard with ...\n",
       "1076548    RT & ENTER to #Win a $50 #Amazon #GiftCard @Bo...\n",
       "1092144    #Dystopian #SciFi #Goodreads #Amazon #Reviews ...\n",
       "1092156    @Flipkart Fake Flipkart Websites are offering ...\n",
       "1224959    Check out my Facebook page https://m.facebook....\n",
       "Name: tweet_text, dtype: object"
      ]
     },
     "execution_count": 16,
     "metadata": {},
     "output_type": "execute_result"
    }
   ],
   "source": [
    "database.tweet_text[database.pre_clean_len > 1000]"
   ]
  },
  {
   "cell_type": "markdown",
   "metadata": {},
   "source": [
    "It seems like there are comments that have websites on and others that are advertising products. Also, there seems to be some repeated comments. "
   ]
  },
  {
   "cell_type": "code",
   "execution_count": 57,
   "metadata": {},
   "outputs": [],
   "source": [
    "#removing duplicates from dataset\n",
    "database = database.drop_duplicates(subset='tweet_text', keep='first')"
   ]
  },
  {
   "cell_type": "code",
   "execution_count": 58,
   "metadata": {},
   "outputs": [
    {
     "data": {
      "text/plain": [
       "49586      We released an update for SUPER PINBALL MAKER!...\n",
       "208261     https://www.amazon.com/KINGSLONG-Backpack-Comp...\n",
       "208295     https://www.amazon.com/KINGSLONG-Backpack-Comp...\n",
       "208488     https://www.amazon.com/KINGSLONG-Backpack-Comp...\n",
       "208530     https://www.amazon.com/KINGSLONG-Backpack-Comp...\n",
       "270721     Horrific, Life threatening experience in an UB...\n",
       "300879     Here's what I've found $319 here can't vouch f...\n",
       "410002     *SPECIAL BREAKING NEWS*- QL RADIO Will Be Feat...\n",
       "448393     #VacancyCO #RealEstate, #PropertyPro.ng, #Lago...\n",
       "448689     #VacancyCCO #Tripz Nigeria, #Lagos: #CUSTOMER ...\n",
       "822323     #TARGET #UNKT These data are not final. Work i...\n",
       "837429     I just entered to win a $100 #Target Gift card...\n",
       "1002112    ENTER #Win a $100 #Amazon #Gift #card with @Bo...\n",
       "1002475    Celebrate Romance Enter to #Win a NEW #Kindle ...\n",
       "1008860    RT and ENTER Daily to #Win a #$50 #Amazon #Gif...\n",
       "1010477    Spring into Summer #giveaway #Romance Multi-Au...\n",
       "1012943    RT ENTER to #Win an #Amazon #Kindle with @Book...\n",
       "1015162    RT ENTER to #Win a $50 #Amazon #Giftcard with ...\n",
       "1015294    RT ENTER to #Win a $50 #Amazon #Giftcard with ...\n",
       "1076548    RT & ENTER to #Win a $50 #Amazon #GiftCard @Bo...\n",
       "1092144    #Dystopian #SciFi #Goodreads #Amazon #Reviews ...\n",
       "1092156    @Flipkart Fake Flipkart Websites are offering ...\n",
       "1224959    Check out my Facebook page https://m.facebook....\n",
       "Name: tweet_text, dtype: object"
      ]
     },
     "execution_count": 58,
     "metadata": {},
     "output_type": "execute_result"
    }
   ],
   "source": [
    "database.tweet_text[database.pre_clean_len > 1000]"
   ]
  },
  {
   "cell_type": "code",
   "execution_count": 59,
   "metadata": {},
   "outputs": [],
   "source": [
    "#removing companies that are not prepared yet\n",
    "database = database[database.company != 'US Bank']\n"
   ]
  },
  {
   "cell_type": "markdown",
   "metadata": {},
   "source": [
    "# Data Preparation "
   ]
  },
  {
   "cell_type": "markdown",
   "metadata": {},
   "source": [
    "## Cleaning the data"
   ]
  },
  {
   "cell_type": "code",
   "execution_count": 60,
   "metadata": {},
   "outputs": [],
   "source": [
    "import pandas as pd  \n",
    "import numpy as np\n",
    "import matplotlib.pyplot as plt\n",
    "plt.style.use('fivethirtyeight')\n",
    "\n",
    "%matplotlib inline\n",
    "%config InlineBackend.figure_format = 'retina'\n",
    "import re\n",
    "from bs4 import BeautifulSoup\n",
    "from nltk.tokenize import WordPunctTokenizer\n",
    "tok = WordPunctTokenizer()\n",
    "\n",
    "#removing @mentions\n",
    "pat1 = r'@[A-Za-z0-9_]+'\n",
    "#removing urls\n",
    "pat2 = r'https?://[^ ]+'\n",
    "combined_pat = r'|'.join((pat1, pat2))\n",
    "www_pat = r'www.[^ ]+'\n",
    "negations_dic = {\"isn't\":\"is not\", \"aren't\":\"are not\", \"wasn't\":\"was not\", \"weren't\":\"were not\",\n",
    "                \"haven't\":\"have not\",\"hasn't\":\"has not\",\"hadn't\":\"had not\",\"won't\":\"will not\",\n",
    "                \"wouldn't\":\"would not\", \"don't\":\"do not\", \"doesn't\":\"does not\",\"didn't\":\"did not\",\n",
    "                \"can't\":\"can not\",\"couldn't\":\"could not\",\"shouldn't\":\"should not\",\"mightn't\":\"might not\",\n",
    "                \"mustn't\":\"must not\"}\n",
    "neg_pattern = re.compile(r'\\b(' + '|'.join(negations_dic.keys()) + r')\\b')\n",
    "\n",
    "def tweet_cleaner_updated(text):\n",
    "    #Decoding HTML to general text \n",
    "    soup = BeautifulSoup(text, 'lxml')\n",
    "    souped = soup.get_text()\n",
    "    try:\n",
    "        #BOM will be replaced with unicode unrecognisable special characters, then I can process this as “?”\n",
    "        bom_removed = souped.decode(\"utf-8-sig\").replace(u\"\\ufffd\", \"?\")\n",
    "    except:\n",
    "        bom_removed = souped\n",
    "        \n",
    "    stripped = re.sub(combined_pat, '', bom_removed)\n",
    "    \n",
    "    stripped = re.sub(www_pat, '', stripped)\n",
    "    \n",
    "    lower_case = stripped.lower()\n",
    "    \n",
    "    neg_handled = neg_pattern.sub(lambda x: negations_dic[x.group()], lower_case)\n",
    "    #removing hasthags, numbers\n",
    "    letters_only = re.sub(\"[^a-zA-Z]\", \" \", neg_handled)\n",
    "    # During the letters_only process two lines above, it has created unnecessay white spaces,\n",
    "    # I will tokenize and join together to remove unneccessary white spaces\n",
    "    words = [x for x  in tok.tokenize(letters_only) if len(x) > 1]\n",
    "    return (\" \".join(words)).strip()\n",
    "\n",
    "\n",
    "\n",
    "test_result = []\n",
    "for t in database[\"tweet_text\"]:\n",
    "    test_result.append(tweet_cleaner_updated(t))\n"
   ]
  },
  {
   "cell_type": "code",
   "execution_count": 61,
   "metadata": {},
   "outputs": [
    {
     "name": "stdout",
     "output_type": "stream",
     "text": [
      "Cleaning and parsing the tweets...\n",
      "\n"
     ]
    }
   ],
   "source": [
    "database = database.reset_index()\n",
    "\n",
    "print (\"Cleaning and parsing the tweets...\\n\")\n",
    "clean_tweet_texts = []\n",
    "for i in range(0, len (database['tweet_text'])):\n",
    "    #if( (i+1)%10000 == 0 ):\n",
    "        #print (\"Tweets %d of %d has been processed\" % ( i+1, nums[1] ))                                                                  \n",
    "    clean_tweet_texts.append(tweet_cleaner_updated(database['tweet_text'][i]))"
   ]
  },
  {
   "cell_type": "code",
   "execution_count": 62,
   "metadata": {},
   "outputs": [
    {
     "data": {
      "text/html": [
       "<div>\n",
       "<style scoped>\n",
       "    .dataframe tbody tr th:only-of-type {\n",
       "        vertical-align: middle;\n",
       "    }\n",
       "\n",
       "    .dataframe tbody tr th {\n",
       "        vertical-align: top;\n",
       "    }\n",
       "\n",
       "    .dataframe thead th {\n",
       "        text-align: right;\n",
       "    }\n",
       "</style>\n",
       "<table border=\"1\" class=\"dataframe\">\n",
       "  <thead>\n",
       "    <tr style=\"text-align: right;\">\n",
       "      <th></th>\n",
       "      <th>text</th>\n",
       "    </tr>\n",
       "  </thead>\n",
       "  <tbody>\n",
       "    <tr>\n",
       "      <th>0</th>\n",
       "      <td>now let me go step further did show disdain at...</td>\n",
       "    </tr>\n",
       "    <tr>\n",
       "      <th>1</th>\n",
       "      <td>tryna get that official league license so can ...</td>\n",
       "    </tr>\n",
       "    <tr>\n",
       "      <th>2</th>\n",
       "      <td>showing up with some goods too hmu truist</td>\n",
       "    </tr>\n",
       "    <tr>\n",
       "      <th>3</th>\n",
       "      <td>should drop some sfgiants inspired stuff with ...</td>\n",
       "    </tr>\n",
       "    <tr>\n",
       "      <th>4</th>\n",
       "      <td>check out truist skincare lotion infused moist...</td>\n",
       "    </tr>\n",
       "  </tbody>\n",
       "</table>\n",
       "</div>"
      ],
      "text/plain": [
       "                                                text\n",
       "0  now let me go step further did show disdain at...\n",
       "1  tryna get that official league license so can ...\n",
       "2          showing up with some goods too hmu truist\n",
       "3  should drop some sfgiants inspired stuff with ...\n",
       "4  check out truist skincare lotion infused moist..."
      ]
     },
     "execution_count": 62,
     "metadata": {},
     "output_type": "execute_result"
    }
   ],
   "source": [
    "clean_df = pd.DataFrame(clean_tweet_texts,columns=['text'])\n",
    "clean_df.head()"
   ]
  },
  {
   "cell_type": "markdown",
   "metadata": {},
   "source": [
    "## Exporting CSV file"
   ]
  },
  {
   "cell_type": "code",
   "execution_count": 63,
   "metadata": {},
   "outputs": [],
   "source": [
    "#adding clean column to initial dataset\n",
    "database[\"clean_text\"] = clean_df[\"text\"]\n",
    "database.to_csv('./clean_tweet.csv',encoding='utf-8')"
   ]
  }
 ],
 "metadata": {
  "kernelspec": {
   "display_name": "Python 3",
   "language": "python",
   "name": "python3"
  },
  "language_info": {
   "codemirror_mode": {
    "name": "ipython",
    "version": 3
   },
   "file_extension": ".py",
   "mimetype": "text/x-python",
   "name": "python",
   "nbconvert_exporter": "python",
   "pygments_lexer": "ipython3",
   "version": "3.7.6"
  }
 },
 "nbformat": 4,
 "nbformat_minor": 4
}
