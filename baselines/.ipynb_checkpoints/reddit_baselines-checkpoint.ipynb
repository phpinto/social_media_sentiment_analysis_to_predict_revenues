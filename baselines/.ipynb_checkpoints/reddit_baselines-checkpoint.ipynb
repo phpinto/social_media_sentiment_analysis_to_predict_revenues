{
 "cells": [
  {
   "cell_type": "code",
   "execution_count": 1,
   "metadata": {},
   "outputs": [],
   "source": [
    "import pandas as pd\n",
    "import numpy as np\n",
    "import datetime\n",
    "from datetime import datetime\n",
    "from pytz import timezone\n",
    "import math\n",
    "import matplotlib.pyplot as plt"
   ]
  },
  {
   "cell_type": "raw",
   "metadata": {},
   "source": [
    "The cell below loads all data. Make sure your filepaths are updated to work on your computer"
   ]
  },
  {
   "cell_type": "code",
   "execution_count": 2,
   "metadata": {},
   "outputs": [],
   "source": [
    "reddit_df = pd.read_csv('reddit_text_sentiment.csv')\n",
    "stocks_df = pd.read_csv(\"../data/stocks/csv/stock_prices.csv\")\n",
    "companies_df = pd.read_csv(\"../data/stocks/csv/companies.csv\")\n",
    "brands_df = pd.read_csv(\"../data/stocks/csv/brands.csv\")\n",
    "industries_df = pd.read_csv(\"../data/stocks/csv/industries.csv\")"
   ]
  },
  {
   "cell_type": "code",
   "execution_count": 3,
   "metadata": {},
   "outputs": [],
   "source": [
    "stocks_df = pd.read_csv(\"../data/stocks/csv/stock_prices.csv\")"
   ]
  },
  {
   "cell_type": "raw",
   "metadata": {},
   "source": [
    "Below three cells add the 'datetime' column to stocks_df and reddit_df. This column contains datetime format object of stock market closing time (EST)."
   ]
  },
  {
   "cell_type": "code",
   "execution_count": 5,
   "metadata": {},
   "outputs": [],
   "source": [
    "#helper function to convert utc to EST date\n",
    "eastern = timezone('US/Eastern')\n",
    "def utc_to_est(utc):\n",
    "    return datetime.fromtimestamp(utc, tz = eastern)"
   ]
  },
  {
   "cell_type": "code",
   "execution_count": 6,
   "metadata": {},
   "outputs": [],
   "source": [
    "#create new stocks column with datetime format of daily market close times\n",
    "stocks_df[\"date\"] = pd.to_datetime(stocks_df[\"date\"]).values.astype(np.int64) // 10**6\n",
    "stocks_df[\"date\"] = (stocks_df[\"date\"] + 57600000)//1000\n",
    "stocks_df['datetime'] = stocks_df['date'].apply(utc_to_est)"
   ]
  },
  {
   "cell_type": "code",
   "execution_count": 7,
   "metadata": {},
   "outputs": [],
   "source": [
    "#created new reddit column with datetime format of daily market close times\n",
    "reddit_df['datetime'] = reddit_df['created_utc'].apply(utc_to_est)"
   ]
  },
  {
   "cell_type": "raw",
   "metadata": {},
   "source": [
    "Following cell does some basic manipulation for the reddit_df:\n",
    "1. select the columns that I will be using (save space and time)\n",
    "2. add tally to posts so that I can get average weighted sentiment scores later\n",
    "3. convert nonzero scores to something trivial\n",
    "4. create weighted_scores column\n",
    "5. add column for company_id by merging with brands_df"
   ]
  },
  {
   "cell_type": "code",
   "execution_count": 8,
   "metadata": {},
   "outputs": [],
   "source": [
    "#select relevant columns\n",
    "reddit_df = reddit_df[['subreddit', 'datetime', 'score', 'compound', 'positive', 'neutral', 'negative']]\n",
    "\n",
    "#add column that helps in counting posts when grouped\n",
    "reddit_df['num_posts'] = 1\n",
    "\n",
    "#replace zeros with insubstatial float in reddit scores\n",
    "reddit_df.score = reddit_df.score.apply(lambda x: max(x, 0.01))\n",
    "\n",
    "#weighted scores\n",
    "for s in ['compound', 'negative', 'positive', 'neutral']:\n",
    "    reddit_df['weighted_{0}'.format(s)] = reddit_df[s]*reddit_df['score'].apply(lambda x: math.log(x+1))\n",
    "    \n",
    "#add company_id as column\n",
    "reddit_df = reddit_df.merge(brands_df[['subreddit', 'company_id']], on='subreddit')"
   ]
  },
  {
   "cell_type": "raw",
   "metadata": {},
   "source": [
    "Following cells are helper functions:\n",
    "\n",
    "1. separate_reddit takes in the full reddit dataframe and outputs a list of sub-dataframes that are separated either by company, industry, or not at all. The 'by' argument must be one of 'company', 'industry', or 'all'.\n",
    "\n",
    "2. group_data function is meant to be applied to every dataframe output in the separate_reddit output list. This function takes df, by, and days as arguments. 'df' should be a dataframe obtained from the separate_reddit function. 'by' should be one of the strings allowed by the separate_reddit function 'by' argument. 'days' should be an integer. The function outputs a dataframe with datetime (on the later end of each group), weighted sentiment scores (summed over the rolling window), and the company_id or industry_id (if by=='industry')."
   ]
  },
  {
   "cell_type": "code",
   "execution_count": 9,
   "metadata": {},
   "outputs": [],
   "source": [
    "#helper function that takes a dataframe and returns separate dataframes for each company\n",
    "def separate_reddit(reddit_df, by='all'):\n",
    "    if by not in ['all', 'company', 'industry']:\n",
    "        print('argument invalid: must be = <all>, <company>, or <industry>')\n",
    "        pass\n",
    "    else:\n",
    "        if by == 'industry':\n",
    "            temp = reddit_df.merge(companies_df[['id', 'industry_id']], left_on = 'company_id', right_on='id')\n",
    "            return [temp[temp['industry_id']==i][['industry_id', 'datetime','weighted_compound', 'weighted_negative', 'weighted_positive', 'weighted_neutral', 'num_posts']] for i in temp.industry_id.unique()]\n",
    "        elif by == 'company':\n",
    "            return [reddit_df[reddit_df['company_id']==i][['company_id', 'datetime','weighted_compound', 'weighted_negative', 'weighted_positive', 'weighted_neutral', 'num_posts']] for i in reddit_df.company_id.unique()]\n",
    "        else:\n",
    "            return [reddit_df[['company_id', 'datetime','weighted_compound', 'weighted_negative', 'weighted_positive', 'weighted_neutral', 'num_posts']]]"
   ]
  },
  {
   "cell_type": "code",
   "execution_count": 10,
   "metadata": {},
   "outputs": [],
   "source": [
    "#groups data for a single company using sliding window - number of days specified in call\n",
    "def group_data(df, by='all', days = 1):\n",
    "    if by not in ['all', 'company', 'industry']:\n",
    "        print('invalid arg: must be in [all, company, industry]')\n",
    "        pass\n",
    "    else:\n",
    "        if by=='industry':\n",
    "            i_id = df.industry_id.unique()[0] #save industry_id\n",
    "            temp_df = df[['datetime', 'weighted_compound', 'weighted_positive', 'weighted_neutral', 'weighted_negative', 'num_posts']].groupby(pd.Grouper(key='datetime', freq='24h', base=11, label='right')).sum() #groupby day\n",
    "            min_date = min(temp_df.index)\n",
    "            max_date = max(temp_df.index)\n",
    "            date_idx = [i for i in pd.date_range(min_date, max_date)] #new index\n",
    "            temp_df = temp_df.reindex(date_idx).fillna(0).rolling(days).sum()[days-1:] #make dataframe with rolling window sum\n",
    "            temp_df['industry_id'] = i_id #restore industry_id\n",
    "            temp_df.reset_index(inplace=True)\n",
    "            return temp_df\n",
    "        elif by=='company':\n",
    "            c_id = df.company_id.unique()[0] #save company_id\n",
    "            temp_df = df[['datetime', 'weighted_compound', 'weighted_positive', 'weighted_neutral', 'weighted_negative', 'num_posts']].groupby(pd.Grouper(key='datetime', freq='24h', base=11, label='right')).sum() #groupby day\n",
    "            min_date = min(temp_df.index)\n",
    "            max_date = max(temp_df.index)\n",
    "            date_idx = [i for i in pd.date_range(min_date, max_date)] #new index\n",
    "            temp_df = temp_df.reindex(date_idx).fillna(0).rolling(days).sum()[days-1:] #make dataframe with rolling window sum\n",
    "            temp_df['company_id'] = c_id #restore company_id\n",
    "            temp_df.reset_index(inplace=True)\n",
    "            return temp_df\n",
    "        else:\n",
    "            return pd.concat([group_data(d, 'company', days) for d in separate_reddit(df, 'company')])\n",
    "    \n",
    "    "
   ]
  },
  {
   "cell_type": "raw",
   "metadata": {},
   "source": [
    "Following cell makes all of the dataframes ready for regression. Separates a given datafram, runs the group_data function on every one of them, calculates average weighted sentiment scores, and adds change percent to each dataframe. Outpust a list of dataframes."
   ]
  },
  {
   "cell_type": "code",
   "execution_count": 16,
   "metadata": {},
   "outputs": [],
   "source": [
    "def make_dataframes(df, separation='all', lookback=1, min_date = None, max_date = None):\n",
    "    if min_date:\n",
    "        df = df[df['datetime'] >= pd.to_datetime(min_date).tz_localize('US/Eastern')]\n",
    "    if max_date:\n",
    "        df = df[df['datetime'] <= pd.to_datetime(max_date).tz_localize('US/Eastern')]\n",
    "    dfs = []\n",
    "    separated = separate_reddit(df, separation)\n",
    "    for d in separated:\n",
    "        temp = group_data(d, separation, lookback)\n",
    "        for i in ['weighted_compound', 'weighted_negative', 'weighted_positive', 'weighted_neutral']: #iterate over scores columns\n",
    "            temp['avg_{}'.format(i)] = temp[i]/temp['num_posts'].apply(lambda x: max(x, 1)) #set avgerage weighted scores columns\n",
    "        temp = temp.merge(stocks_df[['company_id', 'datetime', 'change_percent']], on=['company_id', 'datetime']) #add change_percent column\n",
    "        dfs.append(temp)\n",
    "    return dfs\n",
    "        "
   ]
  },
  {
   "cell_type": "code",
   "execution_count": 33,
   "metadata": {},
   "outputs": [],
   "source": [
    "model_dfs = make_dataframes(reddit_df, lookback = 1, min_date = '2014-03-01')"
   ]
  },
  {
   "cell_type": "code",
   "execution_count": 56,
   "metadata": {},
   "outputs": [
    {
     "data": {
      "text/plain": [
       "<matplotlib.collections.PathCollection at 0x1a299e48cf8>"
      ]
     },
     "execution_count": 56,
     "metadata": {},
     "output_type": "execute_result"
    },
    {
     "data": {
      "image/png": "[encoded data removed]",
      "text/plain": [
       "<Figure size 432x288 with 1 Axes>"
      ]
     },
     "metadata": {
      "needs_background": "light"
     },
     "output_type": "display_data"
    }
   ],
   "source": [
    "plt.scatter(model_dfs[0].avg_weighted_compound, model_dfs[0].change_percent)"
   ]
  },
  {
   "cell_type": "code",
   "execution_count": 61,
   "metadata": {},
   "outputs": [],
   "source": [
    "from sklearn.linear_model import LinearRegression, LogisticRegression, LogisticRegressionCV\n",
    "from sklearn.model_selection import train_test_split\n",
    "from sklearn.metrics import f1_score"
   ]
  },
  {
   "cell_type": "raw",
   "metadata": {},
   "source": [
    "Some tests for Logistic Regression"
   ]
  },
  {
   "cell_type": "code",
   "execution_count": 95,
   "metadata": {},
   "outputs": [],
   "source": [
    "#helper function that finds optimal C for a given training set (logistic regression)\n",
    "def cross_validate_logreg(X_train, y_train, c_s = [0.1, 0.3, 1, 3, 10, 30, 100]):\n",
    "    c_s = [0.1, 0.3, 1, 3, 10, 30, 100]\n",
    "    lg_cv = LogisticRegressionCV(Cs = c_s, scoring='f1').fit(X_train, y_train)\n",
    "    return c_s[np.argmax(np.mean(lg_cv.scores_[True],axis=0))], np.max(np.mean(lg_cv.scores_[True], axis=0))"
   ]
  },
  {
   "cell_type": "code",
   "execution_count": 98,
   "metadata": {},
   "outputs": [],
   "source": [
    "def logreg_by_lookback(reddit_df, lookback = [1], c_s = [0.1, 0.3, 1, 3, 10, 30, 100]):\n",
    "    for i in lookback:\n",
    "        full_df = make_dataframes(reddit_df, lookback = i, min_date = '2014-03-01')[0]\n",
    "        X = full_df[['avg_weighted_compound', 'avg_weighted_positive', 'avg_weighted_negative', 'avg_weighted_neutral', 'num_posts']]\n",
    "        y = full_df['change_percent'] > 0\n",
    "        X_train, X_test, y_train, y_test=train_test_split(X, y, test_size=0.25, random_state = 6240)\n",
    "        best_c, f1_score = cross_validate_logreg(X_train, y_train, c_s)\n",
    "        print('Best f1_score = {0} for {1} day lookback with C = {2}'.format(f1_score, i, best_c))"
   ]
  },
  {
   "cell_type": "code",
   "execution_count": 99,
   "metadata": {},
   "outputs": [
    {
     "name": "stderr",
     "output_type": "stream",
     "text": [
      "C:\\Users\\ptbut\\Anaconda3\\lib\\site-packages\\sklearn\\model_selection\\_split.py:1978: FutureWarning: The default value of cv will change from 3 to 5 in version 0.22. Specify it explicitly to silence this warning.\n",
      "  warnings.warn(CV_WARNING, FutureWarning)\n"
     ]
    },
    {
     "name": "stdout",
     "output_type": "stream",
     "text": [
      "Best f1_score = 0.6844993070286836 for 1 day lookback with C = 0.1\n"
     ]
    },
    {
     "name": "stderr",
     "output_type": "stream",
     "text": [
      "C:\\Users\\ptbut\\Anaconda3\\lib\\site-packages\\sklearn\\model_selection\\_split.py:1978: FutureWarning: The default value of cv will change from 3 to 5 in version 0.22. Specify it explicitly to silence this warning.\n",
      "  warnings.warn(CV_WARNING, FutureWarning)\n"
     ]
    },
    {
     "name": "stdout",
     "output_type": "stream",
     "text": [
      "Best f1_score = 0.6845026628116683 for 3 day lookback with C = 0.1\n"
     ]
    },
    {
     "name": "stderr",
     "output_type": "stream",
     "text": [
      "C:\\Users\\ptbut\\Anaconda3\\lib\\site-packages\\sklearn\\model_selection\\_split.py:1978: FutureWarning: The default value of cv will change from 3 to 5 in version 0.22. Specify it explicitly to silence this warning.\n",
      "  warnings.warn(CV_WARNING, FutureWarning)\n"
     ]
    },
    {
     "name": "stdout",
     "output_type": "stream",
     "text": [
      "Best f1_score = 0.6507838626984754 for 6 day lookback with C = 0.1\n"
     ]
    },
    {
     "name": "stderr",
     "output_type": "stream",
     "text": [
      "C:\\Users\\ptbut\\Anaconda3\\lib\\site-packages\\sklearn\\model_selection\\_split.py:1978: FutureWarning: The default value of cv will change from 3 to 5 in version 0.22. Specify it explicitly to silence this warning.\n",
      "  warnings.warn(CV_WARNING, FutureWarning)\n"
     ]
    },
    {
     "name": "stdout",
     "output_type": "stream",
     "text": [
      "Best f1_score = 0.6825146042805549 for 10 day lookback with C = 0.1\n"
     ]
    },
    {
     "name": "stderr",
     "output_type": "stream",
     "text": [
      "C:\\Users\\ptbut\\Anaconda3\\lib\\site-packages\\sklearn\\model_selection\\_split.py:1978: FutureWarning: The default value of cv will change from 3 to 5 in version 0.22. Specify it explicitly to silence this warning.\n",
      "  warnings.warn(CV_WARNING, FutureWarning)\n"
     ]
    },
    {
     "name": "stdout",
     "output_type": "stream",
     "text": [
      "Best f1_score = 0.6855929478481713 for 15 day lookback with C = 30\n"
     ]
    }
   ],
   "source": [
    "logreg_by_lookback(reddit_df, lookback = [1, 3, 6, 10, 15])"
   ]
  },
  {
   "cell_type": "code",
   "execution_count": 106,
   "metadata": {},
   "outputs": [
    {
     "name": "stdout",
     "output_type": "stream",
     "text": [
      "<built-in method format of str object at 0x000001A297D4D170>\n"
     ]
    },
    {
     "name": "stderr",
     "output_type": "stream",
     "text": [
      "C:\\Users\\ptbut\\Anaconda3\\lib\\site-packages\\sklearn\\linear_model\\logistic.py:432: FutureWarning: Default solver will be changed to 'lbfgs' in 0.22. Specify a solver to silence this warning.\n",
      "  FutureWarning)\n"
     ]
    }
   ],
   "source": [
    "#test out best logistic regression model\n",
    "full_df = make_dataframes(reddit_df, lookback = 15, min_date = '2014-03-01')[0]\n",
    "X = full_df[['avg_weighted_compound', 'avg_weighted_positive', 'avg_weighted_negative', 'avg_weighted_neutral', 'num_posts']]\n",
    "y = full_df['change_percent'] > 0\n",
    "X_train, X_test, y_train, y_test=train_test_split(X, y, test_size=0.25, random_state = 6240)\n",
    "lg = LogisticRegression(C=30).fit(X_train, y_train)\n",
    "lg_preds = lg.predict(X_test)\n",
    "f1 = f1_score(lg_preds, y_test)\n",
    "print('f1 score :{0}'.format)"
   ]
  },
  {
   "cell_type": "code",
   "execution_count": 104,
   "metadata": {},
   "outputs": [
    {
     "name": "stdout",
     "output_type": "stream",
     "text": [
      "r-squared for 1 day lookup is 0.0007246047514668508\n",
      "f1 for 1 day lookup is 0.6702033598585323\n",
      "r-squared for 3 day lookup is 0.0005415447738095214\n",
      "f1 for 3 day lookup is 0.6798283261802576\n",
      "r-squared for 6 day lookup is 0.001932734096405375\n",
      "f1 for 6 day lookup is 0.5962666666666666\n",
      "r-squared for 10 day lookup is 0.0007407773187453337\n",
      "f1 for 10 day lookup is 0.6909402441636323\n",
      "r-squared for 15 day lookup is 0.0006469767110658386\n",
      "f1 for 15 day lookup is 0.6789748045178107\n"
     ]
    }
   ],
   "source": [
    "##Baseline tests for linear regression\n",
    "lookback_days = [1, 3, 6, 10, 15]\n",
    "for i in lookback_days:\n",
    "    full_df = make_dataframes(reddit_df, lookback = i, min_date = '2014-03-01')[0]\n",
    "    X = full_df[['avg_weighted_compound', 'avg_weighted_positive', 'avg_weighted_negative', 'avg_weighted_neutral', 'num_posts']]\n",
    "    y = full_df['change_percent']\n",
    "    X_train, X_test, y_train, y_test=train_test_split(X, y, test_size=0.25, random_state = 6240)\n",
    "    ln = LinearRegression(normalize=True).fit(X_train, y_train)\n",
    "    ln_pred = ln.predict(X_test)\n",
    "    ln_f1 = f1_score((ln_pred > 0), y_test >0)\n",
    "    print('r-squared for {0} day lookup is {1}'.format(i, ln.score(X_train, y_train)))\n",
    "    print('f1 for {0} day lookup is {1}'.format(i, ln_f1))"
   ]
  },
  {
   "cell_type": "code",
   "execution_count": null,
   "metadata": {},
   "outputs": [],
   "source": []
  }
 ],
 "metadata": {
  "kernelspec": {
   "display_name": "Python 3",
   "language": "python",
   "name": "python3"
  },
  "language_info": {
   "codemirror_mode": {
    "name": "ipython",
    "version": 3
   },
   "file_extension": ".py",
   "mimetype": "text/x-python",
   "name": "python",
   "nbconvert_exporter": "python",
   "pygments_lexer": "ipython3",
   "version": "3.7.6"
  }
 },
 "nbformat": 4,
 "nbformat_minor": 2
}
