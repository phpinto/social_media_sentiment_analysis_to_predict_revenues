{
 "cells": [
  {
   "cell_type": "markdown",
   "metadata": {},
   "source": [
    "## 1. Importing Python Libraries:"
   ]
  },
  {
   "cell_type": "code",
   "execution_count": 1,
   "metadata": {},
   "outputs": [],
   "source": [
    "import numpy as np\n",
    "import pandas as pd\n",
    "import csv\n",
    "import mysql.connector\n",
    "from datetime import datetime\n",
    "from pytz import timezone\n",
    "import math\n",
    "import matplotlib.pyplot as plt\n",
    "from sklearn.linear_model import LinearRegression, LogisticRegression, LogisticRegressionCV\n",
    "from sklearn.model_selection import train_test_split\n",
    "from sklearn.metrics import f1_score, mean_squared_error as mse"
   ]
  },
  {
   "cell_type": "markdown",
   "metadata": {},
   "source": [
    "## 2. Importing the Data Sets:"
   ]
  },
  {
   "cell_type": "code",
   "execution_count": 2,
   "metadata": {},
   "outputs": [],
   "source": [
    "# Importing the Twitter Data:\n",
    "twitter_df = pd.read_csv(\"../data/twitter.csv\")"
   ]
  },
  {
   "cell_type": "code",
   "execution_count": 3,
   "metadata": {
    "scrolled": true
   },
   "outputs": [],
   "source": [
    "# Importing Industry Categories Table:\n",
    "industries_df = pd.read_csv(\"../data/industries.csv\")\n",
    "companies_df = pd.read_csv(\"../data/companies.csv\")"
   ]
  },
  {
   "cell_type": "code",
   "execution_count": 4,
   "metadata": {},
   "outputs": [],
   "source": [
    "# Importing the Stock Price Data:\n",
    "stocks_df = pd.read_csv(\"../data/stock_prices.csv\")"
   ]
  },
  {
   "cell_type": "markdown",
   "metadata": {},
   "source": [
    "## 3. Creating the Labeled Training Data Set:"
   ]
  },
  {
   "cell_type": "code",
   "execution_count": 5,
   "metadata": {},
   "outputs": [],
   "source": [
    "# helper function to convert utc to EST date\n",
    "eastern = timezone('US/Eastern')\n",
    "def utc_to_est(utc):\n",
    "    return datetime.fromtimestamp(utc, tz = eastern)\n",
    "\n",
    "#create new stocks column with datetime format of daily market close times\n",
    "stocks_df[\"date\"] = pd.to_datetime(stocks_df[\"date\"]).values.astype(np.int64) // 10**6\n",
    "stocks_df[\"date\"] = (stocks_df[\"date\"] + 57600000)//1000\n",
    "stocks_df['datetime'] = stocks_df['date'].apply(utc_to_est)\n",
    "\n",
    "# created new twitter column with datetime format of daily market close times\n",
    "\n",
    "twitter_df[\"date\"] = pd.to_datetime(twitter_df[\"date\"]).values.astype(np.int64) // 10**6\n",
    "twitter_df[\"date\"] = (twitter_df[\"date\"])//1000\n",
    "twitter_df['datetime'] = twitter_df['date'].apply(utc_to_est)\n",
    "\n",
    "# add column that helps in counting posts when grouped\n",
    "twitter_df['num_tweets'] = 1"
   ]
  },
  {
   "cell_type": "code",
   "execution_count": 6,
   "metadata": {},
   "outputs": [],
   "source": [
    "#helper function that takes a dataframe and returns separate dataframes for each company\n",
    "def separate_twitter(twitter_df, by='all'):\n",
    "    if by not in ['all', 'company', 'industry']:\n",
    "        print('argument invalid: must be = <all>, <company>, or <industry>')\n",
    "        pass\n",
    "    else:\n",
    "        if by == 'industry':\n",
    "            temp = twitter_df.merge(companies_df[['id', 'industry_id']], left_on = 'company_id', right_on='id')\n",
    "            return [temp[temp['industry_id']==i][['industry_id', 'datetime', 'overall_sentiment', 'negative_sentiment', 'positive_sentiment', 'neutral_sentiment', 'num_tweets']] for i in temp.industry_id.unique()]\n",
    "        elif by == 'company':\n",
    "            return [twitter_df[twitter_df['company_id']==i][['company_id', 'datetime', 'overall_sentiment', 'negative_sentiment', 'positive_sentiment', 'neutral_sentiment', 'num_tweets']] for i in twitter_df.company_id.unique()]\n",
    "        else:\n",
    "            return [twitter_df[['company_id', 'datetime','overall_sentiment', 'negative_sentiment', 'positive_sentiment', 'neutral_sentiment', 'num_tweets']]]"
   ]
  },
  {
   "cell_type": "code",
   "execution_count": 7,
   "metadata": {},
   "outputs": [],
   "source": [
    "#groups data for a single company using sliding window - number of days specified in call\n",
    "def group_data(df, by='all', days = 1):\n",
    "    if by not in ['all', 'company', 'industry']:\n",
    "        print('invalid arg: must be in [all, company, industry]')\n",
    "        pass\n",
    "    else:\n",
    "        if by=='industry':\n",
    "            i_id = df.industry_id.unique()[0] #save industry_id\n",
    "            temp_df = df[['datetime', 'overall_sentiment', 'negative_sentiment', 'positive_sentiment', 'neutral_sentiment', 'num_tweets']].groupby(pd.Grouper(key='datetime', freq='24h', base=11, label='right')).sum() #groupby day\n",
    "            min_date = min(temp_df.index)\n",
    "            max_date = max(temp_df.index)\n",
    "            date_idx = [i for i in pd.date_range(min_date, max_date)] #new index\n",
    "            temp_df = temp_df.reindex(date_idx).fillna(0).rolling(days).sum()[days-1:] #make dataframe with rolling window sum\n",
    "            temp_df['industry_id'] = i_id #restore industry_id\n",
    "            temp_df.reset_index(inplace=True)\n",
    "            return temp_df\n",
    "        elif by=='company':\n",
    "            c_id = df.company_id.unique()[0] #save company_id\n",
    "            temp_df = df[['datetime', 'overall_sentiment', 'negative_sentiment', 'positive_sentiment', 'neutral_sentiment', 'num_tweets']].groupby(pd.Grouper(key='datetime', freq='24h', base=11, label='right')).sum() #groupby day\n",
    "            min_date = min(temp_df.index)\n",
    "            max_date = max(temp_df.index)\n",
    "            date_idx = [i for i in pd.date_range(min_date, max_date)] #new index\n",
    "            temp_df = temp_df.reindex(date_idx).fillna(0).rolling(days).sum()[days-1:] #make dataframe with rolling window sum\n",
    "            temp_df['company_id'] = c_id #restore company_id\n",
    "            temp_df.reset_index(inplace=True)\n",
    "            return temp_df\n",
    "        else:\n",
    "            return pd.concat([group_data(d, 'company', days) for d in separate_twitter(df, 'company')])\n",
    "    \n",
    "    "
   ]
  },
  {
   "cell_type": "code",
   "execution_count": 8,
   "metadata": {},
   "outputs": [],
   "source": [
    "def make_dataframes(df, separation='all', lookback=1, min_date = None, max_date = None):\n",
    "    if min_date:\n",
    "        df = df[df['datetime'] >= pd.to_datetime(min_date).tz_localize('US/Eastern')]\n",
    "    if max_date:\n",
    "        df = df[df['datetime'] <= pd.to_datetime(max_date).tz_localize('US/Eastern')]\n",
    "    dfs = []\n",
    "    separated = separate_twitter(df, separation)\n",
    "    for d in separated:\n",
    "        temp = group_data(d, separation, lookback)\n",
    "        for i in ['overall_sentiment', 'negative_sentiment', 'positive_sentiment', 'neutral_sentiment']: #iterate over scores columns\n",
    "            temp['avg_{}'.format(i)] = temp[i]/temp['num_tweets'].apply(lambda x: max(x, 1)) #set avgerage weighted scores columns\n",
    "        temp = temp.merge(stocks_df[['company_id', 'datetime', 'change_percent']], on=['company_id', 'datetime']) #add change_percent column\n",
    "        dfs.append(temp)\n",
    "    return dfs"
   ]
  },
  {
   "cell_type": "code",
   "execution_count": 9,
   "metadata": {},
   "outputs": [],
   "source": [
    "model_dfs = make_dataframes(twitter_df, lookback = 1, min_date = '2014-03-01')"
   ]
  },
  {
   "cell_type": "code",
   "execution_count": 10,
   "metadata": {},
   "outputs": [
    {
     "data": {
      "text/plain": [
       "<matplotlib.collections.PathCollection at 0x1d8a6d3a908>"
      ]
     },
     "execution_count": 10,
     "metadata": {},
     "output_type": "execute_result"
    },
    {
     "data": {
      "image/png": "[encoded data removed]",
      "text/plain": [
       "<Figure size 432x288 with 1 Axes>"
      ]
     },
     "metadata": {
      "needs_background": "light"
     },
     "output_type": "display_data"
    }
   ],
   "source": [
    "plt.scatter(model_dfs[0].avg_overall_sentiment, model_dfs[0].change_percent)"
   ]
  },
  {
   "cell_type": "markdown",
   "metadata": {},
   "source": [
    "## 4. Building the Baselines:"
   ]
  },
  {
   "cell_type": "markdown",
   "metadata": {},
   "source": [
    "### 4.1 Multi-linear Regression Model:"
   ]
  },
  {
   "cell_type": "code",
   "execution_count": 22,
   "metadata": {},
   "outputs": [
    {
     "name": "stdout",
     "output_type": "stream",
     "text": [
      "r-squared for 1 day lookup is 0.00043722372689702915\n",
      "f1 for 1 day lookup is 0.6546791990192071\n",
      "r-squared for 3 day lookup is 0.0008295367286418331\n",
      "f1 for 3 day lookup is 0.641718052307038\n",
      "r-squared for 6 day lookup is 0.0007833224582839415\n",
      "f1 for 6 day lookup is 0.6390408077408497\n",
      "r-squared for 10 day lookup is 0.0006316894589113442\n",
      "f1 for 10 day lookup is 0.6609923188706662\n",
      "r-squared for 15 day lookup is 0.0010286548402231865\n",
      "f1 for 15 day lookup is 0.6688741721854304\n"
     ]
    }
   ],
   "source": [
    "# Linear Regression Baseline:\n",
    "\n",
    "lookback_days = [1, 3, 6, 10, 15]\n",
    "\n",
    "for i in lookback_days:\n",
    "    full_df = make_dataframes(twitter_df, lookback = i)[0]\n",
    "    X = full_df[['avg_overall_sentiment', 'avg_positive_sentiment', 'avg_negative_sentiment', 'avg_neutral_sentiment', 'num_tweets']]\n",
    "    y = full_df['change_percent']\n",
    "    X_train, X_test, y_train, y_test=train_test_split(X, y, test_size=0.25, random_state = 6240)\n",
    "    ln = LinearRegression(normalize=True).fit(X_train, y_train)\n",
    "    ln_pred = ln.predict(X_test)\n",
    "    ln_f1 = f1_score((ln_pred > 0), y_test >0)\n",
    "    print('r-squared for {0} day lookup is {1}'.format(i, ln.score(X_train, y_train)))\n",
    "    print('f1 for {0} day lookup is {1}'.format(i, ln_f1))"
   ]
  },
  {
   "cell_type": "markdown",
   "metadata": {},
   "source": [
    "### 4.2 Logistic Regression Model:"
   ]
  },
  {
   "cell_type": "code",
   "execution_count": 23,
   "metadata": {},
   "outputs": [],
   "source": [
    "#helper function that finds optimal C for a given training set (logistic regression)\n",
    "\n",
    "def cross_validate_logreg(X_train, y_train, c_s = [0.1, 0.3, 1, 3, 10, 30, 100]):\n",
    "    c_s = [0.1, 0.3, 1, 3, 10, 30, 100]\n",
    "    lg_cv = LogisticRegressionCV(Cs = c_s, scoring='f1').fit(X_train, y_train)\n",
    "    return c_s[np.argmax(np.mean(lg_cv.scores_[True],axis=0))], np.max(np.mean(lg_cv.scores_[True], axis=0))"
   ]
  },
  {
   "cell_type": "code",
   "execution_count": 24,
   "metadata": {},
   "outputs": [],
   "source": [
    "def logreg_by_lookback(twitter_df, lookback = [1], c_s = [0.1, 0.3, 1, 3, 10, 30, 100]):\n",
    "    for i in lookback:\n",
    "        full_df = make_dataframes(twitter_df, lookback = i)[0]\n",
    "        X = full_df[['avg_overall_sentiment', 'avg_positive_sentiment', 'avg_negative_sentiment', 'avg_neutral_sentiment', 'num_tweets']]\n",
    "        y = full_df['change_percent'] > 0\n",
    "        X_train, X_test, y_train, y_test=train_test_split(X, y, test_size=0.25, random_state = 6240)\n",
    "        best_c, f1_score = cross_validate_logreg(X_train, y_train, c_s)\n",
    "        print('Best f1_score = {0} for {1} day lookback with C = {2}'.format(f1_score, i, best_c))"
   ]
  },
  {
   "cell_type": "code",
   "execution_count": 25,
   "metadata": {},
   "outputs": [
    {
     "name": "stdout",
     "output_type": "stream",
     "text": [
      "Best f1_score = 0.6520373662148338 for 1 day lookback with C = 0.1\n",
      "Best f1_score = 0.650849158944005 for 3 day lookback with C = 0.1\n",
      "Best f1_score = 0.6836000835664533 for 6 day lookback with C = 0.1\n",
      "Best f1_score = 0.6794265341468233 for 10 day lookback with C = 0.1\n",
      "Best f1_score = 0.6761225260829554 for 15 day lookback with C = 0.1\n"
     ]
    }
   ],
   "source": [
    "logreg_by_lookback(twitter_df, lookback = [1, 3, 6, 10, 15])"
   ]
  },
  {
   "cell_type": "code",
   "execution_count": 15,
   "metadata": {},
   "outputs": [
    {
     "name": "stdout",
     "output_type": "stream",
     "text": [
      "<built-in method format of str object at 0x000001D8A05AB170>\n"
     ]
    }
   ],
   "source": [
    "# test out best logistic regression model\n",
    "\n",
    "full_df = make_dataframes(twitter_df, lookback = 10, min_date = '2014-03-01')[0]\n",
    "X = full_df[['avg_overall_sentiment', 'avg_positive_sentiment', 'avg_negative_sentiment', 'avg_neutral_sentiment', 'num_tweets']]\n",
    "y = full_df['change_percent'] > 0\n",
    "X_train, X_test, y_train, y_test=train_test_split(X, y, test_size=0.25, random_state = 6240)\n",
    "lg = LogisticRegression(C=30).fit(X_train, y_train)\n",
    "lg_preds = lg.predict(X_test)\n",
    "f1 = f1_score(lg_preds, y_test)\n",
    "print('f1 score :{0}'.format)"
   ]
  }
 ],
 "metadata": {
  "kernelspec": {
   "display_name": "Python 3",
   "language": "python",
   "name": "python3"
  },
  "language_info": {
   "codemirror_mode": {
    "name": "ipython",
    "version": 3
   },
   "file_extension": ".py",
   "mimetype": "text/x-python",
   "name": "python",
   "nbconvert_exporter": "python",
   "pygments_lexer": "ipython3",
   "version": "3.7.6"
  }
 },
 "nbformat": 4,
 "nbformat_minor": 2
}
